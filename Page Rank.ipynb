{
 "cells": [
  {
   "cell_type": "code",
   "execution_count": 4,
   "metadata": {},
   "outputs": [],
   "source": [
    "import pandas as pd\n",
    "import xml.etree.ElementTree as ET"
   ]
  },
  {
   "cell_type": "code",
   "execution_count": 149,
   "metadata": {},
   "outputs": [],
   "source": [
    "xml_data = open('/home/daniel/Рабочий стол/pagerank.xml', 'r').read()  # Read file\n",
    "root = ET.XML(xml_data)  # Parse XML\n",
    "\n",
    "data = []\n",
    "cols = []\n",
    "for i, child in enumerate(root):\n",
    "    source = []\n",
    "    source.append([subchild.attrib.get('source') for subchild in child])\n",
    "    data.append(source)\n",
    "    target = []\n",
    "    target.append([subchild.attrib.get('target') for subchild in child])\n",
    "    data.append(target)\n",
    "    value = []\n",
    "    value.append([subchild.attrib.get('value') for subchild in child])\n",
    "    data.append(value)\n",
    "\n",
    "PADGM = pd.DataFrame()\n",
    "PADGM['source'] = data[0][0]\n",
    "PADGM['target'] = data[1][0]\n",
    "PADGM['value'] = data[2][0]\n",
    "\n",
    "PADGB = pd.DataFrame()\n",
    "PADGB['source'] = data[3][0]\n",
    "PADGB['target'] = data[4][0]\n",
    "PADGB['value'] = data[5][0]"
   ]
  },
  {
   "cell_type": "code",
   "execution_count": 334,
   "metadata": {},
   "outputs": [],
   "source": [
    "import numpy as np\n",
    "import random\n",
    "\n",
    "def get_index(obj, objects):\n",
    "    i = 0\n",
    "    while (objects[i] != obj):\n",
    "        i+=1\n",
    "    return i\n",
    "\n",
    "def PageRank(table, eps = 1e-300, d = 0.85):\n",
    "    global pageRank, nodes, outputcount, it\n",
    "    new_pageRank = np.asarray(pageRank)\n",
    "    visited = [0] * len(nodes)\n",
    "    can_continue = True\n",
    "    q = []\n",
    "    while(can_continue):\n",
    "        if not q:\n",
    "            v = random.randrange(count)\n",
    "        else:\n",
    "            v = q.pop(0)\n",
    "        visited[v] = 1\n",
    "        next_objects = table.loc[(table['source'] == nodes[v]) & (table['value'] == '1.0000')]['target']\n",
    "        prev_objects = table.loc[(table['target'] == nodes[v]) & (table['value'] == '1.0000')]['source']\n",
    "        for obj in next_objects:\n",
    "            i = np.where(nodes == obj)[0][0]\n",
    "            if(visited[i] == 0):\n",
    "                q.append(i)\n",
    "        new_pageRank[v] = (1 - d)/len(nodes)\n",
    "        for obj in prev_objects:\n",
    "            i = np.where(nodes == obj)[0][0]\n",
    "            new_pageRank[v]+= d * pageRank[i] / outputcount[i]\n",
    "        if (sum(visited) == len(nodes)):\n",
    "            can_continue = False\n",
    "    it+=1\n",
    "    if ((np.linalg.norm(np.asarray(new_pageRank) - np.asarray(pageRank)) < eps) and (it > 10)):\n",
    "        print(\"Done\", it, 'iterations')\n",
    "    else:\n",
    "        pageRank = new_pageRank\n",
    "        PageRank(table)\n",
    "    "
   ]
  },
  {
   "cell_type": "markdown",
   "metadata": {},
   "source": [
    "# Смотрим на граф брачных связей"
   ]
  },
  {
   "cell_type": "code",
   "execution_count": 338,
   "metadata": {},
   "outputs": [
    {
     "name": "stdout",
     "output_type": "stream",
     "text": [
      "Done 11 iterations\n"
     ]
    },
    {
     "data": {
      "text/html": [
       "<div>\n",
       "<style scoped>\n",
       "    .dataframe tbody tr th:only-of-type {\n",
       "        vertical-align: middle;\n",
       "    }\n",
       "\n",
       "    .dataframe tbody tr th {\n",
       "        vertical-align: top;\n",
       "    }\n",
       "\n",
       "    .dataframe thead th {\n",
       "        text-align: right;\n",
       "    }\n",
       "</style>\n",
       "<table border=\"1\" class=\"dataframe\">\n",
       "  <thead>\n",
       "    <tr style=\"text-align: right;\">\n",
       "      <th></th>\n",
       "      <th>ACCIAIUOL</th>\n",
       "      <th>ALBIZZI</th>\n",
       "      <th>BARBADORI</th>\n",
       "      <th>BISCHERI</th>\n",
       "      <th>CASTELLAN</th>\n",
       "      <th>GINORI</th>\n",
       "      <th>GUADAGNI</th>\n",
       "      <th>LAMBERTES</th>\n",
       "      <th>MEDICI</th>\n",
       "      <th>PAZZI</th>\n",
       "      <th>PERUZZI</th>\n",
       "      <th>PUCCI</th>\n",
       "      <th>RIDOLFI</th>\n",
       "      <th>SALVIATI</th>\n",
       "      <th>STROZZI</th>\n",
       "      <th>TORNABUON</th>\n",
       "    </tr>\n",
       "  </thead>\n",
       "  <tbody>\n",
       "    <tr>\n",
       "      <th>0</th>\n",
       "      <td>0.02856</td>\n",
       "      <td>0.073853</td>\n",
       "      <td>0.046944</td>\n",
       "      <td>0.064153</td>\n",
       "      <td>0.06462</td>\n",
       "      <td>0.030266</td>\n",
       "      <td>0.091725</td>\n",
       "      <td>0.028866</td>\n",
       "      <td>0.135954</td>\n",
       "      <td>0.033693</td>\n",
       "      <td>0.063305</td>\n",
       "      <td>0.009375</td>\n",
       "      <td>0.064784</td>\n",
       "      <td>0.057218</td>\n",
       "      <td>0.08209</td>\n",
       "      <td>0.066482</td>\n",
       "    </tr>\n",
       "  </tbody>\n",
       "</table>\n",
       "</div>"
      ],
      "text/plain": [
       "   ACCIAIUOL   ALBIZZI  BARBADORI  BISCHERI  CASTELLAN    GINORI  GUADAGNI  \\\n",
       "0    0.02856  0.073853   0.046944  0.064153    0.06462  0.030266  0.091725   \n",
       "\n",
       "   LAMBERTES    MEDICI     PAZZI   PERUZZI     PUCCI   RIDOLFI  SALVIATI  \\\n",
       "0   0.028866  0.135954  0.033693  0.063305  0.009375  0.064784  0.057218   \n",
       "\n",
       "   STROZZI  TORNABUON  \n",
       "0  0.08209   0.066482  "
      ]
     },
     "execution_count": 338,
     "metadata": {},
     "output_type": "execute_result"
    }
   ],
   "source": [
    "nodes = PADGM['source'].unique()\n",
    "pageRank = [(1-d)/len(nodes)] * len(nodes)\n",
    "outputcount = [0] * len(nodes)\n",
    "for (i, node) in enumerate(nodes):\n",
    "    outputcount[i] = len(PADGM.loc[(PADGM['source'] == nodes[i]) & (PADGM['value'] == '1.0000')])\n",
    "it = 0\n",
    "PageRank(PADGM)\n",
    "df = pd.DataFrame(pageRank).T\n",
    "df.columns = nodes\n",
    "df"
   ]
  },
  {
   "cell_type": "markdown",
   "metadata": {},
   "source": [
    "# Смотрим на граф бизнес связей"
   ]
  },
  {
   "cell_type": "code",
   "execution_count": 340,
   "metadata": {},
   "outputs": [
    {
     "name": "stdout",
     "output_type": "stream",
     "text": [
      "Done 11 iterations\n"
     ]
    },
    {
     "data": {
      "text/html": [
       "<div>\n",
       "<style scoped>\n",
       "    .dataframe tbody tr th:only-of-type {\n",
       "        vertical-align: middle;\n",
       "    }\n",
       "\n",
       "    .dataframe tbody tr th {\n",
       "        vertical-align: top;\n",
       "    }\n",
       "\n",
       "    .dataframe thead th {\n",
       "        text-align: right;\n",
       "    }\n",
       "</style>\n",
       "<table border=\"1\" class=\"dataframe\">\n",
       "  <thead>\n",
       "    <tr style=\"text-align: right;\">\n",
       "      <th></th>\n",
       "      <th>ACCIAIUOL</th>\n",
       "      <th>ALBIZZI</th>\n",
       "      <th>BARBADORI</th>\n",
       "      <th>BISCHERI</th>\n",
       "      <th>CASTELLAN</th>\n",
       "      <th>GINORI</th>\n",
       "      <th>GUADAGNI</th>\n",
       "      <th>LAMBERTES</th>\n",
       "      <th>MEDICI</th>\n",
       "      <th>PAZZI</th>\n",
       "      <th>PERUZZI</th>\n",
       "      <th>PUCCI</th>\n",
       "      <th>RIDOLFI</th>\n",
       "      <th>SALVIATI</th>\n",
       "      <th>STROZZI</th>\n",
       "      <th>TORNABUON</th>\n",
       "    </tr>\n",
       "  </thead>\n",
       "  <tbody>\n",
       "    <tr>\n",
       "      <th>0</th>\n",
       "      <td>0.009375</td>\n",
       "      <td>0.009375</td>\n",
       "      <td>0.086903</td>\n",
       "      <td>0.062144</td>\n",
       "      <td>0.061898</td>\n",
       "      <td>0.049707</td>\n",
       "      <td>0.04403</td>\n",
       "      <td>0.080234</td>\n",
       "      <td>0.128623</td>\n",
       "      <td>0.031241</td>\n",
       "      <td>0.08003</td>\n",
       "      <td>0.009375</td>\n",
       "      <td>0.009375</td>\n",
       "      <td>0.031241</td>\n",
       "      <td>0.009375</td>\n",
       "      <td>0.031239</td>\n",
       "    </tr>\n",
       "  </tbody>\n",
       "</table>\n",
       "</div>"
      ],
      "text/plain": [
       "   ACCIAIUOL   ALBIZZI  BARBADORI  BISCHERI  CASTELLAN    GINORI  GUADAGNI  \\\n",
       "0   0.009375  0.009375   0.086903  0.062144   0.061898  0.049707   0.04403   \n",
       "\n",
       "   LAMBERTES    MEDICI     PAZZI  PERUZZI     PUCCI   RIDOLFI  SALVIATI  \\\n",
       "0   0.080234  0.128623  0.031241  0.08003  0.009375  0.009375  0.031241   \n",
       "\n",
       "    STROZZI  TORNABUON  \n",
       "0  0.009375   0.031239  "
      ]
     },
     "execution_count": 340,
     "metadata": {},
     "output_type": "execute_result"
    }
   ],
   "source": [
    "nodes = PADGB['source'].unique()\n",
    "pageRank = [(1-d)/len(nodes)] * len(nodes)\n",
    "outputcount = [0] * len(nodes)\n",
    "for (i, node) in enumerate(nodes):\n",
    "    outputcount[i] = len(PADGB.loc[(PADGB['source'] == nodes[i]) & (PADGB['value'] != '0.0000')])\n",
    "it = 0\n",
    "PageRank(PADGB)\n",
    "df = pd.DataFrame(pageRank).T\n",
    "df.columns = nodes\n",
    "df"
   ]
  },
  {
   "cell_type": "code",
   "execution_count": null,
   "metadata": {},
   "outputs": [],
   "source": []
  }
 ],
 "metadata": {
  "kernelspec": {
   "display_name": "Python 3",
   "language": "python",
   "name": "python3"
  },
  "language_info": {
   "codemirror_mode": {
    "name": "ipython",
    "version": 3
   },
   "file_extension": ".py",
   "mimetype": "text/x-python",
   "name": "python",
   "nbconvert_exporter": "python",
   "pygments_lexer": "ipython3",
   "version": "3.8.3"
  }
 },
 "nbformat": 4,
 "nbformat_minor": 4
}
