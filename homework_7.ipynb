{
  "nbformat": 4,
  "nbformat_minor": 0,
  "metadata": {
    "colab": {
      "name": "Untitled5.ipynb",
      "provenance": []
    },
    "kernelspec": {
      "name": "python3",
      "display_name": "Python 3"
    }
  },
  "cells": [
    {
      "cell_type": "code",
      "metadata": {
        "id": "d6-4xYCnK7Ro"
      },
      "source": [
        "import numpy as np\n",
        "from sklearn.datasets import fetch_20newsgroups\n",
        "from sklearn.feature_extraction.text import CountVectorizer\n",
        "from sklearn.feature_extraction.text import ENGLISH_STOP_WORDS\n",
        "from tqdm import tqdm"
      ],
      "execution_count": 36,
      "outputs": []
    },
    {
      "cell_type": "code",
      "metadata": {
        "id": "GuH_1IK7K8oa"
      },
      "source": [
        "newsgroups_train = fetch_20newsgroups(subset='train', remove=('headers', 'footers', 'quotes'))"
      ],
      "execution_count": 37,
      "outputs": []
    },
    {
      "cell_type": "code",
      "metadata": {
        "id": "0HiKImabLFhH"
      },
      "source": [
        "vectorizer = CountVectorizer(lowercase=True, stop_words=ENGLISH_STOP_WORDS, analyzer='word', min_df = 10, max_df=0.1)\n",
        "X_train = vectorizer.fit_transform(newsgroups_train.data)"
      ],
      "execution_count": 50,
      "outputs": []
    },
    {
      "cell_type": "code",
      "metadata": {
        "id": "udrXTQYxLIWW"
      },
      "source": [
        "tags = 20\n",
        "n_k=np.zeros(tags)\n",
        "n_dk=np.zeros((X_train.shape[0], tags))\n",
        "n_kw=np.zeros((tags, X_train.shape[1]))\n",
        "doc, word = X_train.nonzero()\n",
        "z = np.random.choice(tags, len(doc))\n",
        "    \n",
        "for i, j, k in zip(doc, word, z):\n",
        "    n_dk[i, k] += 1\n",
        "    n_kw[k, j] += 1\n",
        "    n_k[k] += 1"
      ],
      "execution_count": 51,
      "outputs": []
    },
    {
      "cell_type": "code",
      "metadata": {
        "id": "f_h9lv-zLXpG"
      },
      "source": [
        "def lda(n_dk, n_kw, n_k, z, doc, word, alpha, beta):    \n",
        "    for i in tqdm(range(50)):\n",
        "        for j in range(len(doc)):\n",
        "            cur_word = word[j]\n",
        "            cur_doc = doc[j]\n",
        "            cur_tag = z[j]\n",
        "            \n",
        "            n_dk[cur_doc, cur_tag] -= 1\n",
        "            n_kw[cur_topic, cur_word] -= 1\n",
        "            n_k[cur_tag] -= 1\n",
        "            \n",
        "            p = (n_dk[cur_doc, :] + alpha) * (n_kw[:, cur_word] + beta[cur_word]) / (n_k + beta.sum())\n",
        "            z[j] = np.random.choice(np.arange(tags), p=p / p.sum())\n",
        "            \n",
        "            n_dk[cur_doc, z[j]] += 1\n",
        "            n_kw[z[j], cur_word] += 1\n",
        "            n_k[z[j]] += 1\n",
        "    return z, n_kw, n_dk, n_k"
      ],
      "execution_count": 52,
      "outputs": []
    },
    {
      "cell_type": "code",
      "metadata": {
        "colab": {
          "base_uri": "https://localhost:8080/"
        },
        "id": "r0wQb8myLbEi",
        "outputId": "97ac5b76-4bc6-4a4d-ccb6-bb71fb8f6834"
      },
      "source": [
        "z,n_kw, n_dk, n_k = lda(n_dk, n_kw, n_k, z, doc, word, 2 * np.ones(20), 2 * np.ones(X_train.shape[1]))"
      ],
      "execution_count": 53,
      "outputs": [
        {
          "output_type": "stream",
          "text": [
            "100%|██████████| 50/50 [24:42<00:00, 29.66s/it]\n"
          ],
          "name": "stderr"
        }
      ]
    },
    {
      "cell_type": "code",
      "metadata": {
        "colab": {
          "base_uri": "https://localhost:8080/"
        },
        "id": "TNXDsSL_Ld7W",
        "outputId": "7d5d1f85-7882-4e82-8f57-75b14f0d8dd9"
      },
      "source": [
        "answer = np.argsort(n_kw, axis=1)[:, -10:]\n",
        "for i in range(20):\n",
        "    matrix = np.zeros((1, X_train.shape[1]))\n",
        "    for j in answer[i]:\n",
        "        matrix[0, j] = 1\n",
        "    print('{} \\t{}'.format(i + 1, '\\t'.join(vectorizer.inverse_transform(matrix)[0])))"
      ],
      "execution_count": 54,
      "outputs": [
        {
          "output_type": "stream",
          "text": [
            "1 \taddress\tavailable\tcode\tfollowing\tftp\tinformation\tprogram\tsend\tspace\tsystems\n",
            "2 \tcourse\tinformation\tlet\tlittle\tlong\treally\tsaid\tsure\ttell\tthing\n",
            "3 \t10\t11\t12\t14\t15\t16\t18\t20\t24\t25\n",
            "4 \tactually\tbetter\tcase\tcourse\tdid\tquite\treally\tsure\twork\twrong\n",
            "5 \tbanks\tcadre\tdsl\tedu\tgeb\tgordon\tpitt\tskepticism\tsoon\tsurrender\n",
            "6 \tcase\tcontrol\tcountry\tgovernment\tgun\tlaw\tpublic\tstate\tstates\tyears\n",
            "7 \tdidn\tgoing\tgot\tlittle\tll\tlot\tmaybe\told\treally\tsaw\n",
            "8 \tchildren\tgovernment\tisrael\tjewish\tjews\tkilled\twar\twomen\tworld\tyears\n",
            "9 \tcost\tcourse\tgreat\tll\tlook\tpoint\treal\tsure\tthings\tyear\n",
            "10 \table\tago\tbelieve\texample\tgroup\tguess\tkind\tll\tprobably\tsure\n",
            "11 \tbest\tcom\tdavid\tdifference\tll\tpost\tquestion\tsounds\tsource\ttry\n",
            "12 \tactually\tdoesn\tgoing\tinterested\tll\tlook\tmakes\tquestion\treally\tstuff\n",
            "13 \tcom\tguess\tinterested\tlook\tlooking\tmonths\tsure\ttell\tthings\tturn\n",
            "14 \tchip\tclipper\tencryption\tgovernment\tinformation\tkey\tkeys\tnumber\tphone\tpublic\n",
            "15 \tcard\tdrive\thelp\tmail\tpc\tproblem\tsoftware\tusing\twindows\twork\n",
            "16 \tcom\tdid\tll\tlooking\tlot\tmail\tpost\tproblem\tremember\tsure\n",
            "17 \tbetter\tcase\tcom\tdoing\thaven\trun\tthing\ttry\twork\tyears\n",
            "18 \tbelieve\tbig\tcar\tdid\tlong\tlook\tnear\tnumber\tprobably\tquestion\n",
            "19 \tbelieve\tcome\tdid\tfact\tgod\tlife\tpoint\tread\tthings\ttrue\n",
            "20 \tbest\tbetter\tdid\tgame\tgames\tplay\tteam\twin\tyear\tyears\n"
          ],
          "name": "stdout"
        }
      ]
    },
    {
      "cell_type": "code",
      "metadata": {
        "colab": {
          "base_uri": "https://localhost:8080/"
        },
        "id": "vRm_SSkBQo7G",
        "outputId": "abce8e3d-8b9a-4cfb-eb6c-946075ce9b18"
      },
      "source": [
        ">newsgroups_train.target_names"
      ],
      "execution_count": 9,
      "outputs": [
        {
          "output_type": "execute_result",
          "data": {
            "text/plain": [
              "['alt.atheism',\n",
              " 'comp.graphics',\n",
              " 'comp.os.ms-windows.misc',\n",
              " 'comp.sys.ibm.pc.hardware',\n",
              " 'comp.sys.mac.hardware',\n",
              " 'comp.windows.x',\n",
              " 'misc.forsale',\n",
              " 'rec.autos',\n",
              " 'rec.motorcycles',\n",
              " 'rec.sport.baseball',\n",
              " 'rec.sport.hockey',\n",
              " 'sci.crypt',\n",
              " 'sci.electronics',\n",
              " 'sci.med',\n",
              " 'sci.space',\n",
              " 'soc.religion.christian',\n",
              " 'talk.politics.guns',\n",
              " 'talk.politics.mideast',\n",
              " 'talk.politics.misc',\n",
              " 'talk.religion.misc']"
            ]
          },
          "metadata": {
            "tags": []
          },
          "execution_count": 9
        }
      ]
    },
    {
      "cell_type": "markdown",
      "metadata": {
        "id": "mrH6Lq3u_Th-"
      },
      "source": [
        "* 1 - comp.os.ms-windows.misc Интеррнет термины\n",
        "* 6 - talk.politics.guns или talk.politics.misc \n",
        "* 8 - talk.politics.mideast Политика и Израиль\n",
        "* 14 - sci.crypt \n",
        "* 15 - comp.sys.mac.hardware Компьютерные термины\n",
        "* 19 - может быть soc.religion.christian\n",
        "* 20 - здесь игры, может быть rec.sport.baseball или rec.sport.hockey\n",
        "\n",
        "\n",
        "\n",
        "\n",
        "\n",
        "\n",
        "\n",
        "\n",
        "\n",
        "\n",
        "\n"
      ]
    },
    {
      "cell_type": "code",
      "metadata": {
        "id": "XAM1h65jSFb0"
      },
      "source": [
        ""
      ],
      "execution_count": null,
      "outputs": []
    }
  ]
}