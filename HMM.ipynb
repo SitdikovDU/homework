{
 "cells": [
  {
   "cell_type": "code",
   "execution_count": 1,
   "metadata": {},
   "outputs": [],
   "source": [
    "import numpy as np"
   ]
  },
  {
   "cell_type": "code",
   "execution_count": 121,
   "metadata": {},
   "outputs": [],
   "source": [
    "q = [1, 3, 3, 2,3,3,3,2,1,2,1,1,3,2,3,2,2,1,3,3,1,1,1,2,1]\n",
    "b = [.2,.4,.4, .5, .4, .1]\n",
    "\n",
    "def algo1(step, state, coeff, memory):\n",
    "    global probability, maxcoef, bestlist\n",
    "    if (len(q) > step):\n",
    "        if (state == 'HOT'):\n",
    "            if (step == len(q) - 1):\n",
    "                probability+= b[q[step] - 1] * coeff\n",
    "                if (b[q[step] - 1] * coeff > maxcoef):\n",
    "                    maxcoef = b[q[step] - 1] * coeff\n",
    "                    bestlist = np.asarray(memory)\n",
    "                    \n",
    "            memory.append('HOT')\n",
    "            algo1(step + 1, 'HOT', coeff * 0.6 * b[q[step]-1], memory)\n",
    "            memory.pop()\n",
    "            memory.append('COLD')\n",
    "            algo1(step + 1, 'COLD', coeff * 0.4* b[q[step] - 1], memory)\n",
    "            memory.pop()\n",
    "        else:\n",
    "            if (step == len(q) - 1):\n",
    "                probability+=b[q[step] + 2] * coeff\n",
    "                if (b[q[step] + 2] * coeff > maxcoef):\n",
    "                    maxcoef = b[q[step] + 2] * coeff\n",
    "                    bestlist = np.asarray(memory)\n",
    "            memory.append('HOT')\n",
    "            algo1(step + 1, 'HOT', coeff*0.5 * b[q[step] + 2], memory)\n",
    "            memory.pop()\n",
    "            memory.append('COLD')\n",
    "            algo1(step + 1, 'COLD', coeff *0.5 * b[q[step] + 2], memory)\n",
    "            memory.pop()\n",
    "    "
   ]
  },
  {
   "cell_type": "code",
   "execution_count": 122,
   "metadata": {},
   "outputs": [
    {
     "name": "stdout",
     "output_type": "stream",
     "text": [
      "7.304069487211321e-17\n",
      "['HOT' 'HOT' 'HOT' 'HOT' 'HOT' 'HOT' 'HOT' 'HOT' 'COLD' 'COLD' 'COLD'\n",
      " 'COLD' 'HOT' 'HOT' 'HOT' 'HOT' 'HOT' 'COLD' 'HOT' 'HOT' 'COLD' 'COLD'\n",
      " 'COLD' 'COLD' 'COLD']\n"
     ]
    }
   ],
   "source": [
    "probability = 0\n",
    "maxcoef = 0\n",
    "bestlist = []\n",
    "mem = ['HOT']\n",
    "algo1(0, mem[0], 0.8, mem)\n",
    "pr1 = probability\n",
    "print(maxcoef)\n",
    "print(bestlist)"
   ]
  },
  {
   "cell_type": "code",
   "execution_count": 123,
   "metadata": {},
   "outputs": [
    {
     "name": "stdout",
     "output_type": "stream",
     "text": [
      "3.804202857922564e-17\n",
      "['COLD' 'HOT' 'HOT' 'HOT' 'HOT' 'HOT' 'HOT' 'HOT' 'COLD' 'COLD' 'COLD'\n",
      " 'COLD' 'HOT' 'HOT' 'HOT' 'HOT' 'HOT' 'COLD' 'HOT' 'HOT' 'COLD' 'COLD'\n",
      " 'COLD' 'COLD' 'COLD']\n"
     ]
    }
   ],
   "source": [
    "probability = 0\n",
    "maxcoef = 0\n",
    "bestlist = []\n",
    "mem = ['COLD']\n",
    "algo1(0, mem[0], 0.2, mem)\n",
    "pr2 = probability\n",
    "print(maxcoef)\n",
    "print(bestlist)"
   ]
  },
  {
   "cell_type": "code",
   "execution_count": 124,
   "metadata": {},
   "outputs": [
    {
     "name": "stdout",
     "output_type": "stream",
     "text": [
      "4.97830020461105e-13\n"
     ]
    }
   ],
   "source": [
    "print(pr1 + pr2)"
   ]
  },
  {
   "cell_type": "markdown",
   "metadata": {},
   "source": [
    "1) Правдоподобие: 4.97830020461105e-13 <br>\n",
    "2) Наиболее вероятная последовательность скрытых состояний это <br>\n",
    "['HOT' 'HOT' 'HOT' 'HOT' 'HOT' 'HOT' 'HOT' 'HOT' 'COLD' 'COLD' 'COLD'\n",
    " 'COLD' 'HOT' 'HOT' 'HOT' 'HOT' 'HOT' 'COLD' 'HOT' 'HOT' 'COLD' 'COLD'\n",
    " 'COLD' 'COLD' 'COLD']\n"
   ]
  },
  {
   "cell_type": "code",
   "execution_count": null,
   "metadata": {},
   "outputs": [],
   "source": []
  }
 ],
 "metadata": {
  "kernelspec": {
   "display_name": "Python 3",
   "language": "python",
   "name": "python3"
  },
  "language_info": {
   "codemirror_mode": {
    "name": "ipython",
    "version": 3
   },
   "file_extension": ".py",
   "mimetype": "text/x-python",
   "name": "python",
   "nbconvert_exporter": "python",
   "pygments_lexer": "ipython3",
   "version": "3.8.3"
  }
 },
 "nbformat": 4,
 "nbformat_minor": 4
}
