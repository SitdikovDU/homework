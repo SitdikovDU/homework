{
 "cells": [
  {
   "cell_type": "code",
   "execution_count": 2,
   "metadata": {},
   "outputs": [],
   "source": [
    "import numpy as np"
   ]
  },
  {
   "cell_type": "code",
   "execution_count": 3,
   "metadata": {},
   "outputs": [
    {
     "data": {
      "text/plain": [
       "[0.5748870356431961,\n",
       " 0.4899920237275378,\n",
       " 0.3010668355899633,\n",
       " 0.2258420611272678,\n",
       " 0.5397556145226796,\n",
       " 0.401528358308753,\n",
       " 0.2604959757523825,\n",
       " 0.42915175200674693,\n",
       " 0.7402612813843518,\n",
       " 0.4999877952859342]"
      ]
     },
     "execution_count": 3,
     "metadata": {},
     "output_type": "execute_result"
    }
   ],
   "source": [
    "#1\n",
    "a = np.random.random((10, 3))\n",
    "[a[i,(np.asarray(abs(a[i] - 0.5))).argmin()] for i in range(10)]"
   ]
  },
  {
   "cell_type": "code",
   "execution_count": 4,
   "metadata": {},
   "outputs": [
    {
     "data": {
      "text/plain": [
       "[8.18416433672222,\n",
       " 173.74974756014737,\n",
       " 11.448793282151534,\n",
       " 76.16947625723904,\n",
       " 6.9727149012469845,\n",
       " 14.315360205129366]"
      ]
     },
     "execution_count": 4,
     "metadata": {},
     "output_type": "execute_result"
    }
   ],
   "source": [
    "#2\n",
    "a = np.random.random((6, 6))\n",
    "[np.sum(a[i]) / np.min(a.T[i]) for i in range(6)]"
   ]
  },
  {
   "cell_type": "code",
   "execution_count": 5,
   "metadata": {},
   "outputs": [
    {
     "data": {
      "text/plain": [
       "5"
      ]
     },
     "execution_count": 5,
     "metadata": {},
     "output_type": "execute_result"
    }
   ],
   "source": [
    "#3\n",
    "x = np.array([6, 2, 0, 3, 0, 0, 5, 7, 0])\n",
    "p = np.where(x == 0)[0] + 1\n",
    "np.max(x[p[p < len(x)]])"
   ]
  },
  {
   "cell_type": "code",
   "execution_count": 6,
   "metadata": {},
   "outputs": [
    {
     "name": "stdout",
     "output_type": "stream",
     "text": [
      "[2. 2. 2. 2. 1. 4. 1. 1. 2. 1.]\n"
     ]
    }
   ],
   "source": [
    "#4\n",
    "x = np.ones(10)\n",
    "i = np.array([0, 1, 2, 3, 5, 5, 5, 8])\n",
    "x += np.bincount(i, minlength = len(x))\n",
    "print(x)"
   ]
  },
  {
   "cell_type": "code",
   "execution_count": 10,
   "metadata": {},
   "outputs": [
    {
     "name": "stdout",
     "output_type": "stream",
     "text": [
      "[1 1 1 0]\n"
     ]
    },
    {
     "data": {
      "text/plain": [
       "array([1, 1, 1, 0])"
      ]
     },
     "execution_count": 10,
     "metadata": {},
     "output_type": "execute_result"
    }
   ],
   "source": [
    "#Здесь не до конца сделан\n",
    "def kmeans(obs, k):\n",
    "    centroids = obs[np.random.randint(0, len(obs), k)]\n",
    "    h = np.arange(0, k)\n",
    "    it = np.ones((k, len(obs)))\n",
    "    it[h] = np.arange(0, len(obs))\n",
    "    it = it.astype(int)\n",
    "    dim1 = (obs[it, 0] - centroids[h, 0].reshape(k, 1))**2\n",
    "    dim2 = (obs[it, 1] - centroids[h, 1].reshape(k, 1))**2\n",
    "    print(((dim1 + dim2)**(1/2)).argmin(axis = 0))\n",
    "    codebook = ((dim1 + dim2)**(1/2)).argmin(axis = 0)\n",
    "    \n",
    "    while(  ):\n",
    "        centroids[h] = np.mean(obs[it])\n",
    "        dim1 = (obs[it, 0] - centroids[h, 0].reshape(k, 1))**2\n",
    "        dim2 = (obs[it, 1] - centroids[h, 1].reshape(k, 1))**2\n",
    "        codebook = ((dim1 + dim2)**(1/2)).argmin(axis = 0)\n",
    "    return codebook\n",
    "    \n",
    "x = np.array([[0, 1],[2, 3], [5, 6], [8, 10]])\n",
    "kmeans(x, 2)"
   ]
  },
  {
   "cell_type": "code",
   "execution_count": null,
   "metadata": {},
   "outputs": [],
   "source": []
  }
 ],
 "metadata": {
  "kernelspec": {
   "display_name": "Python 3",
   "language": "python",
   "name": "python3"
  },
  "language_info": {
   "codemirror_mode": {
    "name": "ipython",
    "version": 3
   },
   "file_extension": ".py",
   "mimetype": "text/x-python",
   "name": "python",
   "nbconvert_exporter": "python",
   "pygments_lexer": "ipython3",
   "version": "3.8.3"
  }
 },
 "nbformat": 4,
 "nbformat_minor": 4
}
